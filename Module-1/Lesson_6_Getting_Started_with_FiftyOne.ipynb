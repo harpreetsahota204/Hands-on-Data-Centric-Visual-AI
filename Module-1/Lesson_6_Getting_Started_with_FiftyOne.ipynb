{
 "cells": [
  {
   "cell_type": "code",
   "execution_count": null,
   "metadata": {},
   "outputs": [],
   "source": [
    "# in case you haven't prepared your enviornment, install the following packages\n",
    "# pip install fiftyone"
   ]
  },
  {
   "cell_type": "markdown",
   "metadata": {},
   "source": [
    "FiftyOne has an integration with Hugging Face. You can read the documentation for details [here](https://docs.voxel51.com/integrations/huggingface.html)"
   ]
  },
  {
   "cell_type": "code",
   "execution_count": null,
   "metadata": {},
   "outputs": [],
   "source": [
    "import fiftyone as fo\n",
    "import fiftyone.utils.huggingface as fouh\n",
    "\n",
    "# Load the dataset from Hugging Face if it's your first time using it\n",
    "\n",
    "dataset = fouh.load_from_hub(\n",
    "    \"Voxel51/Coursera_lecture_dataset_train\", \n",
    "    dataset_name=\"lecture_dataset_train\", \n",
    "    persistent=True\n",
    "    )\n",
    "\n",
    "test_dataset = fouh.load_from_hub(\n",
    "    \"Voxel51/Coursera_lecture_dataset_test\", \n",
    "    dataset_name=\"lecture_dataset_test\", \n",
    "    persistent=True\n",
    "    )\n",
    "\n",
    "dataset.compute_metadata()\n",
    "\n",
    "test_dataset.compute_metadata()"
   ]
  },
  {
   "cell_type": "markdown",
   "metadata": {},
   "source": [
    "Note that downloading the datasets in Google Colab tends to take a very long time. I've tested local downloads and those take ~10 minutes, however it always ends up being 1-2 hours on Google Colab. Colab is known to be quite slow, and my recommendation is to do everything locally if you can.\n",
    "\n",
    "# Brief introduction to the FiftyOne App"
   ]
  },
  {
   "cell_type": "code",
   "execution_count": null,
   "metadata": {},
   "outputs": [],
   "source": [
    "cloned_dataset = dataset.clone(name=\"lecture_dataset_train_clone\", persistent=True) #clone the dataset to avoid modifying the original dataset\n",
    "\n",
    "test_dataset = test_dataset.clone(name=\"lecture_dataset_test_clone\", persistent=True)"
   ]
  },
  {
   "cell_type": "code",
   "execution_count": null,
   "metadata": {},
   "outputs": [],
   "source": [
    "# Launch the App\n",
    "session = fo.launch_app(cloned_dataset)"
   ]
  },
  {
   "cell_type": "markdown",
   "metadata": {},
   "source": [
    "## Profiling Your FiftyOne Dataset: A Quick Overview\n",
    "\n",
    "This profiling strategy should provide you with valuable insights into about your FiftyOne dataset, helping you understand its characteristics and potential challenges or opportunities for further analysis or model training.\n",
    "\n",
    "There are several important aspects of dataset profiling, particularly for a dataset that seems to contain image samples with object detections. Here's what you'll cover:\n",
    "\n",
    "1. Basic dataset information: Getting an overview of the dataset size and structure.\n",
    "\n",
    "2. Sample examination: Looking at individual samples to understand their fields and content.\n",
    "\n",
    "3. Detection statistics: Analyzing the number and distribution of detections across the dataset.\n",
    "\n",
    "4. Label distribution: Examining the frequency and variety of labels in our dataset.\n",
    "\n",
    "5. Image resolution analysis: Understanding the typical sizes of images in our dataset.\n",
    "\n",
    "6. Advanced profiling: Using FiftyOne's built-in tools for comprehensive dataset analysis.\n",
    "\n",
    "By the end of this section, you'll have a solid grasp on your dataset's composition, which will inform your subsequent analysis and model development steps."
   ]
  },
  {
   "cell_type": "markdown",
   "metadata": {},
   "source": [
    "#### Metadata about the dataset\n"
   ]
  },
  {
   "cell_type": "code",
   "execution_count": null,
   "metadata": {},
   "outputs": [],
   "source": [
    "cloned_dataset"
   ]
  },
  {
   "cell_type": "markdown",
   "metadata": {},
   "source": [
    "#### Get the first sample of a dataset, what fields do you see?\n"
   ]
  },
  {
   "cell_type": "code",
   "execution_count": null,
   "metadata": {},
   "outputs": [],
   "source": [
    "first_sample = cloned_dataset.first()"
   ]
  },
  {
   "cell_type": "code",
   "execution_count": null,
   "metadata": {},
   "outputs": [],
   "source": [
    "first_sample"
   ]
  },
  {
   "cell_type": "code",
   "execution_count": null,
   "metadata": {},
   "outputs": [],
   "source": [
    "first_sample.field_names"
   ]
  },
  {
   "cell_type": "markdown",
   "metadata": {},
   "source": [
    "#### Metadata about the sample\n"
   ]
  },
  {
   "cell_type": "code",
   "execution_count": null,
   "metadata": {},
   "outputs": [],
   "source": [
    "first_sample.filepath"
   ]
  },
  {
   "cell_type": "code",
   "execution_count": null,
   "metadata": {},
   "outputs": [],
   "source": [
    "first_sample.metadata"
   ]
  },
  {
   "cell_type": "markdown",
   "metadata": {},
   "source": [
    "#### Count of detections on sample level"
   ]
  },
  {
   "cell_type": "code",
   "execution_count": null,
   "metadata": {},
   "outputs": [],
   "source": [
    "first_sample.ground_truth.detections"
   ]
  },
  {
   "cell_type": "code",
   "execution_count": null,
   "metadata": {},
   "outputs": [],
   "source": [
    "len(first_sample.ground_truth.detections)"
   ]
  },
  {
   "cell_type": "markdown",
   "metadata": {},
   "source": [
    "#### Count of unique labels on sample level\n"
   ]
  },
  {
   "cell_type": "code",
   "execution_count": null,
   "metadata": {},
   "outputs": [],
   "source": [
    "label_counts = {}\n",
    "\n",
    "for detection in first_sample.ground_truth.detections:\n",
    "    label = detection.label\n",
    "    if label in label_counts:\n",
    "        label_counts[label] += 1\n",
    "    else:\n",
    "        label_counts[label] = 1"
   ]
  },
  {
   "cell_type": "code",
   "execution_count": null,
   "metadata": {},
   "outputs": [],
   "source": [
    "label_counts"
   ]
  },
  {
   "cell_type": "markdown",
   "metadata": {},
   "source": [
    "Or, you can create a `DatasetView` by selecting the ID of first sample. \n",
    "\n",
    "Dataset views are ordered collections of sample subsets from a dataset.\n",
    " \n",
    "You can chain operations on dataset views to get the subset you want. Then, you can iterate over this subset to access the sample views directly. Each step in creating a dataset view is represented by a `fiftyone.core.stages.ViewStage` instance.\n",
    "\n",
    "The stages of a dataset view define:\n",
    " \n",
    " - Which samples (and their order) to include\n",
    " - Which fields of each sample to include, possibly filtered\n",
    "\n",
    "You'll learn A LOT about [`DatasetView`](https://docs.voxel51.com/api/fiftyone.core.view.html?highlight=view#module-fiftyone.core.view) and [`ViewExpressions`](https://docs.voxel51.com/api/fiftyone.core.expressions.html?highlight=viewexpression#fiftyone.core.expressions.ViewExpression) throughout the lessons."
   ]
  },
  {
   "cell_type": "code",
   "execution_count": null,
   "metadata": {},
   "outputs": [],
   "source": [
    "# Create a view with just this sample\n",
    "sample_view = cloned_dataset.select(first_sample.id)"
   ]
  },
  {
   "cell_type": "code",
   "execution_count": null,
   "metadata": {},
   "outputs": [],
   "source": [
    "# Count detections in this sample\n",
    "sample_detection_counts = sample_view.count(\"ground_truth.detections\")\n",
    "print(f\"Detection counts for sample {first_sample.id}:\")\n",
    "print(sample_detection_counts)"
   ]
  },
  {
   "cell_type": "code",
   "execution_count": null,
   "metadata": {},
   "outputs": [],
   "source": [
    "# Count labels in this sample\n",
    "sample_label_counts = sample_view.count_values(\"ground_truth.detections.label\")\n",
    "\n",
    "print(f\"Label counts for sample {first_sample.id}:\")\n",
    "print(sample_label_counts)"
   ]
  },
  {
   "cell_type": "markdown",
   "metadata": {},
   "source": [
    "Note, if you try any of the above on just a `Sample` object you'll encounter errors. Whatever you can do on a `Dataset` you can do on a `View`. \n",
    "\n"
   ]
  },
  {
   "cell_type": "markdown",
   "metadata": {},
   "source": [
    "#### How many samples are in the dataset\n"
   ]
  },
  {
   "cell_type": "code",
   "execution_count": null,
   "metadata": {},
   "outputs": [],
   "source": [
    "len(cloned_dataset)"
   ]
  },
  {
   "cell_type": "code",
   "execution_count": null,
   "metadata": {},
   "outputs": [],
   "source": [
    "cloned_dataset.count()"
   ]
  },
  {
   "cell_type": "code",
   "execution_count": null,
   "metadata": {},
   "outputs": [],
   "source": [
    "%%timeit\n",
    "len(cloned_dataset)"
   ]
  },
  {
   "cell_type": "code",
   "execution_count": null,
   "metadata": {},
   "outputs": [],
   "source": [
    "%%timeit\n",
    "cloned_dataset.count()"
   ]
  },
  {
   "cell_type": "markdown",
   "metadata": {},
   "source": [
    "#### How many labels in the whole dataset\n"
   ]
  },
  {
   "cell_type": "code",
   "execution_count": null,
   "metadata": {},
   "outputs": [],
   "source": [
    "distinct_labels = cloned_dataset.distinct(\"ground_truth.detections.label\") #this will return a list of distinct labels\n",
    "\n",
    "print(f\"Number of distinct labels: {len(distinct_labels)}\")\n",
    "print(\"\\n\")\n",
    "print(f\"The distinct labels are: {distinct_labels}\")"
   ]
  },
  {
   "cell_type": "markdown",
   "metadata": {},
   "source": [
    "#### How many detections in the whole dataset\n"
   ]
  },
  {
   "cell_type": "code",
   "execution_count": null,
   "metadata": {},
   "outputs": [],
   "source": [
    "count_of_detections = cloned_dataset.count(\"ground_truth.detections\")\n",
    "\n",
    "print(f\"Total number of detections: {count_of_detections}\") "
   ]
  },
  {
   "cell_type": "code",
   "execution_count": null,
   "metadata": {},
   "outputs": [],
   "source": [
    "# First, get the unsorted counts\n",
    "unsorted_counts = cloned_dataset.count_values(\"ground_truth.detections.label\")\n",
    "\n",
    "# Then, sort the dictionary by keys (labels)\n",
    "sorted_counts = dict(sorted(unsorted_counts.items(), key=lambda item: item[1], reverse=True))\n",
    "\n",
    "print(\"Sorted label counts:\")\n",
    "sorted_counts"
   ]
  },
  {
   "cell_type": "markdown",
   "metadata": {},
   "source": [
    "You can also explore the dataset with a variety of interactive plots. [Learn more in the docs](https://docs.voxel51.com/user_guide/plots.html).\n",
    "\n",
    "Here's a [categorical histogram](https://docs.voxel51.com/api/fiftyone.core.plots.views.html#fiftyone.core.plots.views.CategoricalHistogram) of count of detections by label."
   ]
  },
  {
   "cell_type": "code",
   "execution_count": null,
   "metadata": {},
   "outputs": [],
   "source": [
    "from fiftyone.core.plots.views import CategoricalHistogram\n",
    "\n",
    "CategoricalHistogram(\n",
    "    init_view=cloned_dataset,\n",
    "    field_or_expr=\"ground_truth.detections.label\",\n",
    "    xlabel=\"Label\",\n",
    "    title=\"Count of detections per label\",\n",
    "    order=\"frequency\"\n",
    ")"
   ]
  },
  {
   "cell_type": "markdown",
   "metadata": {},
   "source": [
    "You can also get the distribution of detection counts per image."
   ]
  },
  {
   "cell_type": "code",
   "execution_count": null,
   "metadata": {},
   "outputs": [],
   "source": [
    "from fiftyone import ViewField as F\n",
    "\n",
    "CategoricalHistogram(\n",
    "    init_view=cloned_dataset,\n",
    "    field_or_expr=\"ground_truth\",\n",
    "    expr=F(\"detections\").length(),\n",
    "    title=\"Count of Images by Number of Detections\",\n",
    "    xlabel=\"Number of Detections per image\",\n",
    "    template={\n",
    "        \"layout\": {\n",
    "            \"xaxis\": {\n",
    "                \"range\": [0, 30]  # This sets the x-axis range from 0 to 30\n",
    "            }\n",
    "        }\n",
    "    }\n",
    ")"
   ]
  },
  {
   "cell_type": "markdown",
   "metadata": {},
   "source": [
    "Maybe now you're curious what those images are that have so many detections in them. You can make use of a [`ViewStage`](https://docs.voxel51.com/api/fiftyone.core.stages.html#fiftyone.core.stages.Match) to create a [`View`](https://docs.voxel51.com/api/fiftyone.core.view.html#fiftyone.core.view.DatasetView) and inspect that."
   ]
  },
  {
   "cell_type": "code",
   "execution_count": null,
   "metadata": {},
   "outputs": [],
   "source": [
    "lots_of_detections_stage = fo.Match(F(\"ground_truth.detections\").length() > 15) \n",
    "lots_of_detections_view = cloned_dataset.add_stage(lots_of_detections_stage)\n",
    "\n",
    "# equivalent to the above but in one line\n",
    "# lots_of_detections_stage = cloned_dataset.match(F(\"ground_truth.detections\").length() > 15) \n",
    "\n",
    "fo.launch_app(lots_of_detections_view)"
   ]
  },
  {
   "cell_type": "markdown",
   "metadata": {},
   "source": [
    "And, perhaps, your exploration leads you wonder what contexts the tomatos class occurs in. For that, you can filter the Dataset by label."
   ]
  },
  {
   "cell_type": "code",
   "execution_count": null,
   "metadata": {},
   "outputs": [],
   "source": [
    "select_tomato_stage = fo.SelectBy(\"ground_truth.detections.label\", \"tomato\")\n",
    "tomato_view = dataset.add_stage(select_tomato_stage)\n",
    "tomato_view"
   ]
  },
  {
   "cell_type": "code",
   "execution_count": null,
   "metadata": {},
   "outputs": [],
   "source": [
    "tomato_view.count_values(\"ground_truth.detections.label\")"
   ]
  },
  {
   "cell_type": "code",
   "execution_count": null,
   "metadata": {},
   "outputs": [],
   "source": [
    "fo.launch_app(tomato_view)"
   ]
  },
  {
   "cell_type": "markdown",
   "metadata": {},
   "source": [
    "You can do something similar, yet with different behaviour, like so:"
   ]
  },
  {
   "cell_type": "code",
   "execution_count": null,
   "metadata": {},
   "outputs": [],
   "source": [
    "filter_tomato_stage = fo.FilterLabels((\"ground_truth.detections\"), F(\"label\")==\"tomato\")\n",
    "\n",
    "filter_tomato_view = cloned_dataset.add_stage(filter_tomato_stage)\n",
    "\n",
    "filter_tomato_view"
   ]
  },
  {
   "cell_type": "code",
   "execution_count": null,
   "metadata": {},
   "outputs": [],
   "source": [
    "filter_tomato_view.count_values(\"ground_truth.detections.label\")"
   ]
  },
  {
   "cell_type": "markdown",
   "metadata": {},
   "source": [
    "Alternatively, you can do the following:"
   ]
  },
  {
   "cell_type": "code",
   "execution_count": null,
   "metadata": {},
   "outputs": [],
   "source": [
    "from fiftyone import ViewField as F\n",
    "tomato_view_using_filter_label = cloned_dataset.filter_labels(\"ground_truth.detections\", F(\"label\")==\"tomato\")\n",
    "tomato_view_using_filter_label"
   ]
  },
  {
   "cell_type": "code",
   "execution_count": null,
   "metadata": {},
   "outputs": [],
   "source": [
    "tomato_view_using_filter_label.count_values(\"ground_truth.detections.label\")"
   ]
  },
  {
   "cell_type": "markdown",
   "metadata": {},
   "source": [
    "Now you might be wondering how many images do you have per label, the easiest way to do that is:"
   ]
  },
  {
   "cell_type": "code",
   "execution_count": null,
   "metadata": {},
   "outputs": [],
   "source": [
    "all_label_in_dataset = cloned_dataset.distinct(\"ground_truth.detections.label\")\n",
    "\n",
    "counts_of_images_with_label = {}\n",
    "\n",
    "for _label in all_label_in_dataset:\n",
    "    _label_view = cloned_dataset.filter_labels(\"ground_truth.detections\", F(\"label\")==_label)\n",
    "    counts_of_images_with_label[_label] = _label_view.count()\n",
    "\n",
    "counts_of_images_with_label"
   ]
  },
  {
   "cell_type": "markdown",
   "metadata": {},
   "source": [
    "We'll build on this foundation as we being to explore the data further.\n",
    "\n",
    "Take sometime to review the following documentation (as you can expect questions on the quiz about them):\n",
    "\n",
    "- [`Stages`](https://docs.voxel51.com/api/fiftyone.core.stages.html)\n",
    "\n",
    "- [`DatasetView`](https://docs.voxel51.com/api/fiftyone.core.view.html)\n",
    "\n",
    "- [`ViewExpression`](https://docs.voxel51.com/api/fiftyone.core.expressions.html?highlight=viewexpression#fiftyone.core.expressions.ViewExpression)\n",
    "\n",
    "- [`ViewField`](https://docs.voxel51.com/api/fiftyone.core.expressions.html#fiftyone.core.expressions.ViewField)\n",
    "\n",
    "- Blog: [pandas v FiftyOne](https://docs.voxel51.com/cheat_sheets/pandas_vs_fiftyone.html)\n",
    "\n",
    "- Blog: [pandas-style queries in FiftyOne](https://docs.voxel51.com/tutorials/pandas_comparison.html)\n",
    "\n",
    "- Blog: [Filtering Cheat Sheet](https://docs.voxel51.com/cheat_sheets/filtering_cheat_sheet.html)\n",
    "\n",
    "- Blog: [Views Cheat Sheet](https://docs.voxel51.com/cheat_sheets/views_cheat_sheet.html)\n",
    "\n",
    "If you ever need assistance, have more complex questions, or want to keep in touch, feel free to join the Voxel51 community Discord server [here](https://discord.gg/QAyfnUhfpw)"
   ]
  }
 ],
 "metadata": {
  "kernelspec": {
   "display_name": "fiftyone",
   "language": "python",
   "name": "python3"
  },
  "language_info": {
   "codemirror_mode": {
    "name": "ipython",
    "version": 3
   },
   "file_extension": ".py",
   "mimetype": "text/x-python",
   "name": "python",
   "nbconvert_exporter": "python",
   "pygments_lexer": "ipython3",
   "version": "3.11.9"
  }
 },
 "nbformat": 4,
 "nbformat_minor": 2
}
