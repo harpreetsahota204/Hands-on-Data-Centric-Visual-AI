{
 "cells": [
  {
   "cell_type": "markdown",
   "metadata": {},
   "source": [
    "Computing pairwise IoUs between predicted and ground truth objects: https://voxel51.com/blog/fiftyone-computer-vision-tips-and-tricks-nov-24-2023/\n",
    "\n",
    "\n",
    "Computing pairwise IoUs between predicted and ground truth objects\n",
    "Community Slack member Nahid asked:\n",
    "\n",
    "In my image dataset, I have people and vehicle annotations in YOLOv5 format. Is there a way in FiftyOne to discover images where there is no overlap of these objects (and some distance between them)?\n",
    "\n",
    "Yes! You could do this using FiftyOne’s compute_ious function which computes the pairwise IoUs between the predicted and ground truth objects. For example with two classes:\n",
    "\n",
    "```python\n",
    "import fiftyone.utils.iou as foui\n",
    "class_1 = dataset.filter_labels(field_name, F(\"label\") == class1, only_matches=False).values(f\"{field_name}.detections\")\n",
    "class_2 = dataset.filter_labels(field_name, F(\"label\") == class2, only_matches=False).values(f\"{field_name}.detections\")\n",
    "sample_ids = dataset.values(\"id\")\n",
    "non_overlapping_ids = []\n",
    "for sample_id, class_1_dets, class_2_dets in zip(class_1, class_2, sample_ids):\n",
    "    if class_1_dets and class_2_dets:\n",
    "        if foui.compute_ious(class_1_dets, class_2_dets).any():\n",
    "            # There exists at least one overlapping class 1 and class 2 detection in this sample\n",
    "            continue\n",
    "    non_overlapping_ids.append(sample_id)\n",
    "non_overlapping_view = dataset.select(non_overlapping_ids)\n",
    "```\n",
    "\n",
    "https://docs.voxel51.com/api/fiftyone.utils.iou.html#fiftyone.utils.iou.compute_ious\n",
    "\n",
    "https://docs.voxel51.com/api/fiftyone.utils.iou.html#fiftyone.utils.iou.compute_max_ious\n",
    "\n",
    "\n",
    "SAM and segmentation masks for similar shapes, etc"
   ]
  }
 ],
 "metadata": {
  "language_info": {
   "name": "python"
  }
 },
 "nbformat": 4,
 "nbformat_minor": 2
}
