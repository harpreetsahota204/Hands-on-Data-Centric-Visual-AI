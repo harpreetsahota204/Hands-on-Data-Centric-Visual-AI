{
 "cells": [
  {
   "cell_type": "markdown",
   "metadata": {},
   "source": [
    "Load the following datasets from the Hugging Face Hub:\n",
    "\n",
    " - `Voxel51/Coursera_homework_dataset_train`\n",
    "\n",
    " - `Voxel51/Coursera_homework_dataset_test`\n",
    "\n"
   ]
  },
  {
   "cell_type": "code",
   "execution_count": null,
   "metadata": {},
   "outputs": [],
   "source": [
    "import fiftyone as fo \n",
    "import fiftyone.utils.huggingface as fouh\n",
    "\n",
    "# your code here"
   ]
  },
  {
   "cell_type": "markdown",
   "metadata": {},
   "source": [
    "Compute metadata for both datasets."
   ]
  },
  {
   "cell_type": "code",
   "execution_count": null,
   "metadata": {},
   "outputs": [],
   "source": [
    "# your code here"
   ]
  },
  {
   "cell_type": "markdown",
   "metadata": {},
   "source": [
    "How many samples are in `Voxel51/Coursera_homework_dataset_train`?"
   ]
  },
  {
   "cell_type": "code",
   "execution_count": null,
   "metadata": {},
   "outputs": [],
   "source": [
    "# your code here"
   ]
  },
  {
   "cell_type": "markdown",
   "metadata": {},
   "source": [
    "How many samples are in `Voxel51/Coursera_homework_dataset_test`?"
   ]
  },
  {
   "cell_type": "code",
   "execution_count": null,
   "metadata": {},
   "outputs": [],
   "source": [
    "#your code here"
   ]
  },
  {
   "cell_type": "markdown",
   "metadata": {},
   "source": [
    "How many detections are in `Voxel51/Coursera_homework_dataset_train`?"
   ]
  },
  {
   "cell_type": "code",
   "execution_count": null,
   "metadata": {},
   "outputs": [],
   "source": [
    "# your code here"
   ]
  },
  {
   "cell_type": "markdown",
   "metadata": {},
   "source": [
    "How many detections are in `Voxel51/Coursera_homework_dataset_test`?"
   ]
  },
  {
   "cell_type": "code",
   "execution_count": null,
   "metadata": {},
   "outputs": [],
   "source": [
    "#your code here"
   ]
  },
  {
   "cell_type": "markdown",
   "metadata": {},
   "source": [
    "How many detections per class are in `Voxel51/Coursera_homework_dataset_train`?"
   ]
  },
  {
   "cell_type": "code",
   "execution_count": null,
   "metadata": {},
   "outputs": [],
   "source": [
    "#your code here"
   ]
  },
  {
   "cell_type": "markdown",
   "metadata": {},
   "source": [
    "How many detections per class are in `Voxel51/Coursera_homework_dataset_test`?"
   ]
  },
  {
   "cell_type": "code",
   "execution_count": null,
   "metadata": {},
   "outputs": [],
   "source": [
    "# your code here"
   ]
  },
  {
   "cell_type": "markdown",
   "metadata": {},
   "source": [
    "What is the ID of the sample with the most detections in `Voxel51/Coursera_homework_dataset_train`?"
   ]
  },
  {
   "cell_type": "code",
   "execution_count": null,
   "metadata": {},
   "outputs": [],
   "source": [
    "# your code here"
   ]
  },
  {
   "cell_type": "markdown",
   "metadata": {},
   "source": [
    "What is the ID of the sample with the most detections in `Voxel51/Coursera_homework_dataset_test`?"
   ]
  },
  {
   "cell_type": "code",
   "execution_count": null,
   "metadata": {},
   "outputs": [],
   "source": [
    "# your code here"
   ]
  },
  {
   "cell_type": "markdown",
   "metadata": {},
   "source": [
    "Compute the absolute and relative bounding box sized for `Voxel51/Coursera_homework_dataset_train`"
   ]
  },
  {
   "cell_type": "code",
   "execution_count": null,
   "metadata": {},
   "outputs": [],
   "source": [
    "# your code here"
   ]
  },
  {
   "cell_type": "markdown",
   "metadata": {},
   "source": [
    "Compute the absolute and relative bounding box sized for `Voxel51/Coursera_homework_dataset_test`"
   ]
  },
  {
   "cell_type": "code",
   "execution_count": null,
   "metadata": {},
   "outputs": [],
   "source": [
    "# your code here"
   ]
  },
  {
   "cell_type": "markdown",
   "metadata": {},
   "source": [
    "Compute the average bounding box size of the class with the most detections in `Voxel51/Coursera_homework_dataset_train`"
   ]
  },
  {
   "cell_type": "code",
   "execution_count": null,
   "metadata": {},
   "outputs": [],
   "source": [
    "# your code here"
   ]
  },
  {
   "cell_type": "markdown",
   "metadata": {},
   "source": [
    "Determine the median of bounding box size of the class with the most detections in `Voxel51/Coursera_homework_dataset_train`"
   ]
  },
  {
   "cell_type": "code",
   "execution_count": null,
   "metadata": {},
   "outputs": [],
   "source": [
    "# your code here"
   ]
  },
  {
   "cell_type": "markdown",
   "metadata": {},
   "source": [
    "Determine the standard deviatio of bounding box size of the class with the most detections in `Voxel51/Coursera_homework_dataset_train`"
   ]
  },
  {
   "cell_type": "code",
   "execution_count": null,
   "metadata": {},
   "outputs": [],
   "source": [
    "# your code here"
   ]
  },
  {
   "cell_type": "markdown",
   "metadata": {},
   "source": [
    "Determine the upper and lower bounds of bounding box size of the class with the most detections in `Voxel51/Coursera_homework_dataset_train`"
   ]
  },
  {
   "cell_type": "code",
   "execution_count": null,
   "metadata": {},
   "outputs": [],
   "source": [
    "# your code here"
   ]
  },
  {
   "cell_type": "markdown",
   "metadata": {},
   "source": [
    "Create a filter for samples that have the most frequently occuring labels with a relative bounding box area of less than 0.003 and determine the number of samples in `Voxel51/Coursera_homework_dataset_train` which meet this criteria."
   ]
  },
  {
   "cell_type": "code",
   "execution_count": null,
   "metadata": {},
   "outputs": [],
   "source": [
    "#your code here"
   ]
  },
  {
   "cell_type": "markdown",
   "metadata": {},
   "source": [
    "Use the image quality plugin to find common issues in `Voxel51/Coursera_homework_dataset_train`"
   ]
  },
  {
   "cell_type": "code",
   "execution_count": null,
   "metadata": {},
   "outputs": [],
   "source": [
    "# your code here"
   ]
  },
  {
   "cell_type": "markdown",
   "metadata": {},
   "source": [
    "Use the `clip-vit-base32-torch` model from the FiftyOne model zoo to compute embeddings for the `Voxel51/Coursera_homework_dataset_train` dataset"
   ]
  },
  {
   "cell_type": "code",
   "execution_count": null,
   "metadata": {},
   "outputs": [],
   "source": [
    "# your code here"
   ]
  },
  {
   "cell_type": "markdown",
   "metadata": {},
   "source": [
    "Using the embeddings you generated compute visualization using `umap` with 2 dimensions."
   ]
  },
  {
   "cell_type": "code",
   "execution_count": null,
   "metadata": {},
   "outputs": [],
   "source": [
    "# your code here"
   ]
  },
  {
   "cell_type": "markdown",
   "metadata": {},
   "source": [
    "Using the embeddings you generated compute visualization using `pca` with 2 dimensions."
   ]
  },
  {
   "cell_type": "code",
   "execution_count": null,
   "metadata": {},
   "outputs": [],
   "source": [
    "# your code here"
   ]
  },
  {
   "cell_type": "markdown",
   "metadata": {},
   "source": [
    "Using the embeddings you generated compute visualization using `tsne` with 2 dimensions."
   ]
  },
  {
   "cell_type": "code",
   "execution_count": null,
   "metadata": {},
   "outputs": [],
   "source": [
    "# your code here"
   ]
  },
  {
   "cell_type": "markdown",
   "metadata": {},
   "source": [
    "Build a similarity index using the default backend with the embeddings you generated with the `clip-vit-base32-torch` model."
   ]
  },
  {
   "cell_type": "code",
   "execution_count": null,
   "metadata": {},
   "outputs": [],
   "source": [
    "# your code here"
   ]
  },
  {
   "cell_type": "markdown",
   "metadata": {},
   "source": [
    "Using the similarity index, find the duplicates in the `Voxel51/Coursera_homework_dataset_train` dataset"
   ]
  },
  {
   "cell_type": "code",
   "execution_count": null,
   "metadata": {},
   "outputs": [],
   "source": [
    "# your code here"
   ]
  },
  {
   "cell_type": "markdown",
   "metadata": {},
   "source": [
    "Compute the object clutter scores for the samples in the `Voxel51/Coursera_homework_dataset_train` dataset."
   ]
  },
  {
   "cell_type": "code",
   "execution_count": null,
   "metadata": {},
   "outputs": [],
   "source": [
    "# your code here"
   ]
  },
  {
   "cell_type": "markdown",
   "metadata": {},
   "source": [
    "What is the ID of the sample with the largest score?"
   ]
  },
  {
   "cell_type": "code",
   "execution_count": null,
   "metadata": {},
   "outputs": [],
   "source": [
    "# your code here"
   ]
  },
  {
   "cell_type": "markdown",
   "metadata": {},
   "source": [
    "Find the 10 most similar images for the sample whose ID you obtained in the cell above"
   ]
  },
  {
   "cell_type": "code",
   "execution_count": null,
   "metadata": {},
   "outputs": [],
   "source": [
    "# your code here"
   ]
  },
  {
   "cell_type": "markdown",
   "metadata": {},
   "source": [
    "Compute the object diversity scores for the samples in the `Voxel51/Coursera_homework_dataset_train` dataset."
   ]
  },
  {
   "cell_type": "code",
   "execution_count": null,
   "metadata": {},
   "outputs": [],
   "source": [
    "# your code here"
   ]
  },
  {
   "cell_type": "markdown",
   "metadata": {},
   "source": [
    "Compute the diversity ratios for the samples in the `Voxel51/Coursera_homework_dataset_train` dataset."
   ]
  },
  {
   "cell_type": "code",
   "execution_count": null,
   "metadata": {},
   "outputs": [],
   "source": [
    "# your code here"
   ]
  },
  {
   "cell_type": "markdown",
   "metadata": {},
   "source": [
    "Compute the objectness scores for the samples in the `Voxel51/Coursera_homework_dataset_train` dataset."
   ]
  },
  {
   "cell_type": "code",
   "execution_count": null,
   "metadata": {},
   "outputs": [],
   "source": [
    "# your code here"
   ]
  },
  {
   "cell_type": "markdown",
   "metadata": {},
   "source": [
    "Compute the spatial distribution scores for the samples in the `Voxel51/Coursera_homework_dataset_train` dataset."
   ]
  },
  {
   "cell_type": "code",
   "execution_count": null,
   "metadata": {},
   "outputs": [],
   "source": [
    "# your code here"
   ]
  },
  {
   "cell_type": "markdown",
   "metadata": {},
   "source": [
    "Use the `cluster-center-downweight` methods to find the most representative samples in the `Voxel51/Coursera_homework_dataset_train` dataset."
   ]
  },
  {
   "cell_type": "code",
   "execution_count": null,
   "metadata": {},
   "outputs": [],
   "source": [
    "# your code here"
   ]
  },
  {
   "cell_type": "markdown",
   "metadata": {},
   "source": [
    "Compute the uniqueness values for the samples in the `Voxel51/Coursera_homework_dataset_train` dataset. "
   ]
  },
  {
   "cell_type": "code",
   "execution_count": null,
   "metadata": {},
   "outputs": [],
   "source": [
    "# your code here"
   ]
  },
  {
   "cell_type": "markdown",
   "metadata": {},
   "source": [
    "Use the zero shot detection plugin (with any available model that you can run given your computational resources) to detect the classes in the `Voxel51/Coursera_homework_dataset_train` dataset. "
   ]
  },
  {
   "cell_type": "code",
   "execution_count": null,
   "metadata": {},
   "outputs": [],
   "source": [
    "# your code here"
   ]
  },
  {
   "cell_type": "markdown",
   "metadata": {},
   "source": [
    "Using the results from the zero shot detection model, compute the mistakenness of your ground truth labels."
   ]
  },
  {
   "cell_type": "code",
   "execution_count": null,
   "metadata": {},
   "outputs": [],
   "source": [
    "# your code here"
   ]
  },
  {
   "cell_type": "markdown",
   "metadata": {},
   "source": [
    "Identfify the duplicate detections in the `Voxel51/Coursera_homework_dataset_train` dataset using a threshold of 0.75"
   ]
  },
  {
   "cell_type": "markdown",
   "metadata": {},
   "source": [
    "## Open ended coding\n",
    "\n",
    "By this point you've explored the `Voxel51/Coursera_homework_dataset_train` dataset at great length, having computed various metrics about it as well as visually inspecting the dataset using the FiftyOne app.\n",
    "\n",
    "Use what you have learned about your dataset and what you have learned throughout this course to curate a dataset. Feel free to use any methods we covered in class, or any method you have thought of on your own. \n",
    "\n",
    "Once you have curated your dataset, push it to the Hugging Face Hub and share a link to your curated dataset. In the model card of your dataset outline your data curation strategy so that others may learn from what you did."
   ]
  },
  {
   "cell_type": "code",
   "execution_count": null,
   "metadata": {},
   "outputs": [],
   "source": [
    "# your code to push curated dataset to the hub"
   ]
  },
  {
   "cell_type": "markdown",
   "metadata": {},
   "source": [
    "### Optional\n",
    "\n",
    "If you have the computational resources at your disposal, train a model on your curated dataset and push it to the hub. \n",
    "\n",
    "Use the pattern we covered in Week 1 Lesson 7 to train a model on your curated dataset.\n",
    "\n",
    "Then, use the following code to push your model to the Hub."
   ]
  },
  {
   "cell_type": "code",
   "execution_count": null,
   "metadata": {},
   "outputs": [],
   "source": [
    "from huggingface_hub import HfApi, login\n",
    "from pathlib import Path\n",
    "import shutil\n",
    "\n",
    "# Initialize the Hugging Face API\n",
    "api = HfApi()\n",
    "\n",
    "# Set up your model information\n",
    "repo_id = \"your-user-name/your-model-name\"\n",
    "model_path = \"/path/to/your/best/model/best.pt\"\n",
    "\n",
    "# Create a temporary directory to store the model file\n",
    "temp_dir = Path(\"temp_model_dir\")\n",
    "temp_dir.mkdir(exist_ok=True)\n",
    "\n",
    "# Copy the model file to the temporary directory\n",
    "shutil.copy(model_path, temp_dir / \"model.pt\")\n",
    "\n",
    "# Create a README.md file with model information, feel free to write whatever you want\n",
    "with open(temp_dir / \"README.md\", \"w\") as f:\n",
    "    f.write(\"# Ultralytics YOLOv10 Model\\n\\n\")\n",
    "    f.write(\"This is an Ultralytics YOLOv10 model trained on a dataset that was curated using FiftyOne.\\n\")\n",
    "    f.write(\"DROP A LINK TO YOUR CURATED DATASET and report the mAP you achieved.\\n\")\n",
    "\n",
    "# Push the model to the Hugging Face Hub\n",
    "api.create_repo(repo_id=repo_id, exist_ok=True)\n",
    "\n",
    "api.upload_folder(\n",
    "    folder_path=temp_dir,\n",
    "    repo_id=repo_id,\n",
    "    repo_type=\"model\",\n",
    ")\n",
    "\n",
    "# Clean up the temporary directory\n",
    "shutil.rmtree(temp_dir)"
   ]
  },
  {
   "cell_type": "markdown",
   "metadata": {},
   "source": [
    "Use your trained model to generated predictions on the `Voxel51/Coursera_homework_dataset_test` dataset, then evaluate your predictions."
   ]
  },
  {
   "cell_type": "code",
   "execution_count": null,
   "metadata": {},
   "outputs": [],
   "source": [
    "# your code for model evaluation here"
   ]
  },
  {
   "cell_type": "markdown",
   "metadata": {},
   "source": [
    "Download the dataset of one of your peers from the Hugging Face Hub and train a model on this curated dataset. Using the model trained on your peer's dataset, generate predictions on the `Voxel51/Coursera_homework_dataset_test` dataset. Then compare the predictions from the model trained on your dataset to the preditions of the model trained on your peers dataset."
   ]
  }
 ],
 "metadata": {
  "kernelspec": {
   "display_name": "fiftyone",
   "language": "python",
   "name": "python3"
  },
  "language_info": {
   "name": "python",
   "version": "3.11.9"
  }
 },
 "nbformat": 4,
 "nbformat_minor": 2
}
