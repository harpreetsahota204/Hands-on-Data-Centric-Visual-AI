{
 "cells": [
  {
   "cell_type": "code",
   "execution_count": null,
   "metadata": {},
   "outputs": [],
   "source": [
    "# pip install fiftyone"
   ]
  },
  {
   "cell_type": "code",
   "execution_count": null,
   "metadata": {},
   "outputs": [],
   "source": [
    "import fiftyone as fo\n",
    "import fiftyone.utils.huggingface as fouh\n",
    "\n",
    "# Load the dataset from Hugging Face if it's your first time using it\n",
    "\n",
    "# test_dataset = fouh.load_from_hub(\n",
    "#     \"Voxel51/Coursera_lecture_dataset_test\", \n",
    "#     dataset_name=\"lecture_dataset_test\", \n",
    "#     persistent=True\n",
    "#     )"
   ]
  },
  {
   "cell_type": "code",
   "execution_count": null,
   "metadata": {},
   "outputs": [],
   "source": [
    "dataset = fo.load_dataset(\"lecture_dataset_test_clone\")"
   ]
  },
  {
   "cell_type": "code",
   "execution_count": null,
   "metadata": {},
   "outputs": [],
   "source": [
    "from fiftyone import plugins\n",
    "\n",
    "plugins.download_plugin(\n",
    "    url_or_gh_repo=\"https://github.com/allenleetc/model-comparison\"\n",
    ")\n",
    "\n",
    "plugins.install_plugin_requirements(\n",
    "    plugin_name=\"@allenleetc/model_comparison\"\n",
    ")"
   ]
  },
  {
   "cell_type": "code",
   "execution_count": null,
   "metadata": {},
   "outputs": [],
   "source": [
    "fo.launch_app(dataset)"
   ]
  },
  {
   "cell_type": "code",
   "execution_count": null,
   "metadata": {},
   "outputs": [],
   "source": [
    "dataset"
   ]
  },
  {
   "cell_type": "code",
   "execution_count": null,
   "metadata": {},
   "outputs": [],
   "source": [
    "dataset.delete_sample_fields([\"yoloworld_small_tp\", \"yoloworld_small_fp\", \"yoloworld_small_fn\", \"yoloworld_smallv2_tp\", \"yoloworld_smallv2_fp\", \"yoloworld_smallv2_fn\"])"
   ]
  },
  {
   "cell_type": "code",
   "execution_count": null,
   "metadata": {},
   "outputs": [],
   "source": [
    "dataset.evaluate_detections('yoloworld_small','ground_truth',eval_key='eval_yoloworld_small',classes=dataset.default_classes)\n",
    "dataset.evaluate_detections('yoloworld_smallv2','ground_truth',eval_key='eval_yoloworld_smallv2',classes=dataset.default_classes)"
   ]
  },
  {
   "cell_type": "markdown",
   "metadata": {},
   "source": [
    "The Model Comparison Plugin for FiftyOne includes three main operators. \n",
    "\n",
    "These operators work together to provide a comprehensive workflow for analyzing and visualizing the differences in performance between two object detection models. The Compute operator processes the data, the View operator helps you analyze the results visually, and the Delete operator helps manage your workspace by removing unnecessary comparison data.\n",
    "\n",
    " 1. Compute Model Differences\n",
    "\n",
    "  - Compares the performance of two models against the ground truth\n",
    "\n",
    "  - Classifies labels into six groups:\n",
    "    * `hithit`: both models successfully detect\n",
    "    * `hitmiss`: model1 detects, model2 misses\n",
    "    * `misshit`: model1 misses, model2 detects\n",
    "    * `missmiss`: both models miss\n",
    "    * `hithit+`: both models detect, model2 improves localization\n",
    "    * `hithit-`: both models detect, model2 regresses in localization\n",
    "\n",
    "  - Populates new sample- and label-level fields with comparison statistics and metadata\n",
    "\n",
    " 2. View Model Differences\n",
    "\n",
    "  - Enables viewing the groups of labels classified by the Compute Model Differences operator\n",
    "\n",
    "  - Allows filtering by class\n",
    "\n",
    "  - Facilitates visualization of model improvements or regressions across all classes or for particular classes\n",
    "\n",
    " 3. Delete Model Comparison\n",
    "\n",
    "\n",
    "  - Deletes a specific model comparison run\n",
    "\n",
    "  - Removes associated sample- and label-level fields"
   ]
  }
 ],
 "metadata": {
  "kernelspec": {
   "display_name": "fiftyone",
   "language": "python",
   "name": "python3"
  },
  "language_info": {
   "codemirror_mode": {
    "name": "ipython",
    "version": 3
   },
   "file_extension": ".py",
   "mimetype": "text/x-python",
   "name": "python",
   "nbconvert_exporter": "python",
   "pygments_lexer": "ipython3",
   "version": "3.11.9"
  }
 },
 "nbformat": 4,
 "nbformat_minor": 2
}
